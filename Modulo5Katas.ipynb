{
 "cells": [
  {
   "cell_type": "markdown",
   "metadata": {},
   "source": [
    "## Ejercicio 1 - Utilizar operadores aritmeticos"
   ]
  },
  {
   "cell_type": "code",
   "execution_count": 2,
   "metadata": {},
   "outputs": [
    {
     "name": "stdout",
     "output_type": "stream",
     "text": [
      "628949330\n",
      "390577534\n"
     ]
    }
   ],
   "source": [
    "planeta_tierra = 149597870\n",
    "planeta_jupiter = 778547200\n",
    "\n",
    "kilometros_a_millas = 0.621\n",
    "\n",
    "print(round(planeta_jupiter - planeta_tierra))\n",
    "\n",
    "print(round((planeta_jupiter - planeta_tierra) * kilometros_a_millas))"
   ]
  },
  {
   "cell_type": "markdown",
   "metadata": {},
   "source": [
    "## Ejercicio 2: convierte cadenas en números y usa valores absolutos"
   ]
  },
  {
   "cell_type": "code",
   "execution_count": 3,
   "metadata": {},
   "outputs": [
    {
     "name": "stdout",
     "output_type": "stream",
     "text": [
      "105570000.0\n"
     ]
    }
   ],
   "source": [
    "distancia_planeta_1 = input(\"¿Distancia en km del planeta 1 al Sol?\")\n",
    "distancia_planeta_2 = input(\"¿Distancia en km del planeta 2 al Sol?\")\n",
    "\n",
    "distancia_planetas_kms = abs(int(distancia_planeta_1) - int(distancia_planeta_2))\n",
    "\n",
    "print(distancia_planetas_kms)\n",
    "print(distancia_planetas_kms * kilometros_a_millas)"
   ]
  }
 ],
 "metadata": {
  "interpreter": {
   "hash": "2be5faf79681da6f2a61fdfdd5405d65d042280f7fba6178067603e3a2925119"
  },
  "kernelspec": {
   "display_name": "Python 3.10.2 64-bit",
   "language": "python",
   "name": "python3"
  },
  "language_info": {
   "codemirror_mode": {
    "name": "ipython",
    "version": 3
   },
   "file_extension": ".py",
   "mimetype": "text/x-python",
   "name": "python",
   "nbconvert_exporter": "python",
   "pygments_lexer": "ipython3",
   "version": "3.10.2"
  },
  "orig_nbformat": 4
 },
 "nbformat": 4,
 "nbformat_minor": 2
}
