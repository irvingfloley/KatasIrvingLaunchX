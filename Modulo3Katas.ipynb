{
 "cells": [
  {
   "cell_type": "code",
   "execution_count": 1,
   "metadata": {},
   "outputs": [
    {
     "name": "stdout",
     "output_type": "stream",
     "text": [
      "2010 va antes de 2018\n"
     ]
    }
   ],
   "source": [
    "a = 2010\n",
    "b = 2018\n",
    "\n",
    "if a < b:\n",
    "    print('2010 va antes de 2018')"
   ]
  },
  {
   "cell_type": "code",
   "execution_count": 10,
   "metadata": {},
   "outputs": [
    {
     "name": "stdout",
     "output_type": "stream",
     "text": [
      "El niño cursa el jardin de niños\n"
     ]
    }
   ],
   "source": [
    "from datetime import date\n",
    "\n",
    "# Obtenemos el año en curso\n",
    "actual_Year = date.today().year\n",
    "nacimiento_Year = 2018\n",
    "\n",
    "if actual_Year - nacimiento_Year < 13 and actual_Year - nacimiento_Year > 3:\n",
    "    # intrucción(es) a ejecutar\n",
    "    if actual_Year - nacimiento_Year > 6:\n",
    "        # intrucción(es) a ejecutar\n",
    "        print('El niño cursa la primaria')\n",
    "    else: \n",
    "        # intrucción(es) a ejecutar\n",
    "        print('El niño cursa el jardin de niños')\n",
    "elif actual_Year - nacimiento_Year > 13:\n",
    "    # intrucción(es) a ejecutar\n",
    "    print('El niño ya no cursa la educación básica')\n",
    "else:\n",
    "    # intrucción(es) a ejecutar\n",
    "    print('El niño aún no cursa la educación básica')"
   ]
  },
  {
   "cell_type": "code",
   "execution_count": 12,
   "metadata": {},
   "outputs": [
    {
     "name": "stdout",
     "output_type": "stream",
     "text": [
      "Advertencia\n"
     ]
    }
   ],
   "source": [
    "velocidad_Asteroide = 49\n",
    "velocidad_Tolerada = 25\n",
    "\n",
    "if velocidad_Asteroide > velocidad_Tolerada:\n",
    "    print('Advertencia se acerca un asteroide')\n",
    "else:\n",
    "    print('La velocidad del asteroide no es peligrosa')"
   ]
  },
  {
   "cell_type": "code",
   "execution_count": 15,
   "metadata": {},
   "outputs": [
    {
     "name": "stdout",
     "output_type": "stream",
     "text": [
      "El asteroide no sera visible desde la tierra\n"
     ]
    }
   ],
   "source": [
    "velocidad_Asteroide = 19\n",
    "velocidad_Reaccion = 20\n",
    "\n",
    "if velocidad_Asteroide > velocidad_Reaccion :\n",
    "    print('Mira hacia el cielo, una luz brillante se observara desde la tierra')\n",
    "elif velocidad_Asteroide == velocidad_Reaccion :\n",
    "    print('Mira hacia el cielo, una luz brillante se observara desde la tierra')\n",
    "else :\n",
    "    print('El asteroide no sera visible desde la tierra')"
   ]
  },
  {
   "cell_type": "code",
   "execution_count": 18,
   "metadata": {},
   "outputs": [
    {
     "name": "stdout",
     "output_type": "stream",
     "text": [
      "Un asteroide muy peligroso se acerca a la tierra velozmente, salvese quien pueda\n"
     ]
    }
   ],
   "source": [
    "#Tamaños asteroides\n",
    "diametro_Peligroso = 25\n",
    "\n",
    "#Velocidad asteroides\n",
    "velocidad_Reaccion = 20\n",
    "velocidad_Tolerada = 25\n",
    "\n",
    "#Parametros asteroide \n",
    "velocidad_Asteroide = 21\n",
    "diametro_Asteroide = 40\n",
    "\n",
    "if velocidad_Asteroide > velocidad_Tolerada and diametro_Asteroide > diametro_Peligroso:\n",
    "    print('Un asteroide muy peligroso se acerca a la tierra velozmente, salvese quien pueda')\n",
    "elif velocidad_Asteroide >= velocidad_Reaccion:\n",
    "    print('Mira al cielo podrás observar un espectaculo de luces en el cielo')\n",
    "elif diametro_Asteroide < diametro_Peligroso:\n",
    "    print('Sin novedades')\n",
    "else:\n",
    "    print('Sin novedades')"
   ]
  }
 ],
 "metadata": {
  "interpreter": {
   "hash": "2be5faf79681da6f2a61fdfdd5405d65d042280f7fba6178067603e3a2925119"
  },
  "kernelspec": {
   "display_name": "Python 3.10.2 64-bit",
   "language": "python",
   "name": "python3"
  },
  "language_info": {
   "codemirror_mode": {
    "name": "ipython",
    "version": 3
   },
   "file_extension": ".py",
   "mimetype": "text/x-python",
   "name": "python",
   "nbconvert_exporter": "python",
   "pygments_lexer": "ipython3",
   "version": "3.10.2"
  },
  "orig_nbformat": 4
 },
 "nbformat": 4,
 "nbformat_minor": 2
}
