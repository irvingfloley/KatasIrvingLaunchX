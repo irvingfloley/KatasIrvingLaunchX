{
 "cells": [
  {
   "cell_type": "markdown",
   "metadata": {},
   "source": [
    "## Ejercicio 1: Trabajar con argumentos en funciones"
   ]
  },
  {
   "cell_type": "code",
   "execution_count": 13,
   "metadata": {},
   "outputs": [],
   "source": [
    "def reporte_combustible(primer_tanque, segundo_tanque, tercer_tanque) :\n",
    "    return f\"\"\"Reporte de combustible disponible:\n",
    "    ----------------------------------\n",
    "    Promedio: {(primer_tanque + segundo_tanque + tercer_tanque) / 3} lts\n",
    "    Primer tanque: {primer_tanque} lts\n",
    "    Segundo tanque: {segundo_tanque} lts\n",
    "    Tercer tanque: {tercer_tanque} lts\n",
    "    \"\"\""
   ]
  },
  {
   "cell_type": "code",
   "execution_count": 14,
   "metadata": {},
   "outputs": [
    {
     "name": "stdout",
     "output_type": "stream",
     "text": [
      "Reporte de combustible disponible:\n",
      "    ----------------------------------\n",
      "    Promedio: 24.333333333333332 lts\n",
      "    Primer tanque: 20 lts\n",
      "    Segundo tanque: 35 lts\n",
      "    Tercer tanque: 18 lts\n",
      "    \n"
     ]
    }
   ],
   "source": [
    "print(reporte_combustible(20, 35, 18))"
   ]
  },
  {
   "cell_type": "code",
   "execution_count": 16,
   "metadata": {},
   "outputs": [
    {
     "name": "stdout",
     "output_type": "stream",
     "text": [
      "Reporte de combustible disponible:\n",
      "    ----------------------------------\n",
      "    Promedio: 24.333333333333332 lts\n",
      "    Primer tanque: 20 lts\n",
      "    Segundo tanque: 35 lts\n",
      "    Tercer tanque: 18 lts\n",
      "    \n"
     ]
    }
   ],
   "source": [
    "def calcular_promedio(valores_tanque):\n",
    "    total = sum(valores_tanque)\n",
    "    numero_tanques = len(valores_tanque)\n",
    "    return total / numero_tanques\n",
    "\n",
    "def reporte_combustible(primer_tanque, segundo_tanque, tercer_tanque) :\n",
    "    return f\"\"\"Reporte de combustible disponible:\n",
    "    ----------------------------------\n",
    "    Promedio: {calcular_promedio([primer_tanque, segundo_tanque, tercer_tanque])} lts\n",
    "    Primer tanque: {primer_tanque} lts\n",
    "    Segundo tanque: {segundo_tanque} lts\n",
    "    Tercer tanque: {tercer_tanque} lts\n",
    "    \"\"\"\n",
    "\n",
    "print(reporte_combustible(20, 35, 18))"
   ]
  },
  {
   "cell_type": "markdown",
   "metadata": {},
   "source": [
    "## Ejercicio 2: Trabajo con argumentos de palabra clave"
   ]
  },
  {
   "cell_type": "code",
   "execution_count": 17,
   "metadata": {},
   "outputs": [],
   "source": [
    "# Función con un informe preciso de la misión. Considera hora de prelanzamiento, tiempo de vuelo, destino, tanque externo y tanque interno\n",
    "\n",
    "def generar_informe_mision(hora_prelanzamiento, tiempo_vuelo, destino, tanque_externo, tanque_interno) :\n",
    "    return f\"\"\"Reporte de misión:\n",
    "    ----------------------------------\n",
    "    Hora de prelanzamiento: {hora_prelanzamiento} horas\n",
    "    Tiempo de vuelo: {tiempo_vuelo} minutos\n",
    "    Destino: {destino}\n",
    "    Tanque externo: {tanque_externo} lts\n",
    "    Tanque interno: {tanque_interno} lts\n",
    "    \"\"\""
   ]
  },
  {
   "cell_type": "code",
   "execution_count": 18,
   "metadata": {},
   "outputs": [
    {
     "name": "stdout",
     "output_type": "stream",
     "text": [
      "Reporte de misión:\n",
      "    ----------------------------------\n",
      "    Hora de prelanzamiento: 14:00 horas\n",
      "    Tiempo de vuelo: 140 minutos\n",
      "    Destino: HMO, SON, MEX\n",
      "    Tanque externo: 120 lts\n",
      "    Tanque interno: 250 lts\n",
      "    \n"
     ]
    }
   ],
   "source": [
    "print(generar_informe_mision('14:00', 140, 'HMO, SON, MEX', 120, 250))"
   ]
  },
  {
   "cell_type": "code",
   "execution_count": 33,
   "metadata": {},
   "outputs": [
    {
     "name": "stdout",
     "output_type": "stream",
     "text": [
      "Reporte de misión:\n",
      "    ----------------------------------\n",
      "    Hora de prelanzamiento: 14:00 horas\n",
      "    Numero de escalas 3\n",
      "    Tiempo de vuelo(s): (60, 25, 80) minutos\n",
      "    Duración total del vuelo: 165 minutos\n",
      "    Destino: HMO, SON, MEX\n",
      "    Capacidad de los tanques: 180 lts\n",
      "    \n"
     ]
    }
   ],
   "source": [
    "def generar_informe_mision(hora_prelanzamiento, destino, *tiempo_vuelo, **capacidad_tanques) :\n",
    "    return f\"\"\"Reporte de misión:\n",
    "    ----------------------------------\n",
    "    Hora de prelanzamiento: {hora_prelanzamiento} horas\n",
    "    Numero de escalas {len(tiempo_vuelo)}\n",
    "    Tiempo de vuelo(s): {tiempo_vuelo} minutos\n",
    "    Duración total del vuelo: {sum(tiempo_vuelo)} minutos\n",
    "    Destino: {destino}\n",
    "    Capacidad de los tanques: {sum(capacidad_tanques.values())} lts\n",
    "    \"\"\"\n",
    "\n",
    "print(\n",
    "    generar_informe_mision(\n",
    "        '14:00',\n",
    "        'HMO, SON, MEX',\n",
    "        60, 25, 80,\n",
    "        primer_tanque = 100, segundo_tanque = 80\n",
    "    )\n",
    ")"
   ]
  },
  {
   "cell_type": "code",
   "execution_count": 40,
   "metadata": {},
   "outputs": [
    {
     "name": "stdout",
     "output_type": "stream",
     "text": [
      "Reporte de misión:\n",
      "    ---------------------------------------------------\n",
      "    Destino: HMO, SON, MEX\n",
      "    ---------------------------------------------------\n",
      "    Hora de prelanzamiento: 14:00 horas\n",
      "    Numero de escalas 3\n",
      "    Tiempo de vuelo(s): (60, 25, 80) minutos\n",
      "    Duración total del vuelo: 165 minutos\n",
      "    ----------------------------------------------------\n",
      "    Capacidad de los tanques: \n",
      " >> Tanque: primer_tanque | Capacidad: 100 lts \n",
      " >> Tanque: segundo_tanque | Capacidad: 80 lts \n",
      " >> Tanque: tercer_tanque | Capacidad: 150 lts \n",
      "\n",
      "    \n"
     ]
    }
   ],
   "source": [
    "def generar_informe_mision(hora_prelanzamiento, destino, *tiempo_vuelo, **capacidad_tanques) :\n",
    "    return f\"\"\"Reporte de misión:\n",
    "    ---------------------------------------------------\n",
    "    Destino: {destino}\n",
    "    ---------------------------------------------------\n",
    "    Hora de prelanzamiento: {hora_prelanzamiento} horas\n",
    "    Numero de escalas {len(tiempo_vuelo)}\n",
    "    Tiempo de vuelo(s): {tiempo_vuelo} minutos\n",
    "    Duración total del vuelo: {sum(tiempo_vuelo)} minutos\n",
    "    ----------------------------------------------------\n",
    "    Capacidad de los tanques: {generar_detalle_tanques(**capacidad_tanques)}\n",
    "    \"\"\"\n",
    "\n",
    "def generar_detalle_tanques(**capacidad_tanques) :\n",
    "    lista = '\\n'\n",
    "    for nombre, valor in capacidad_tanques.items():\n",
    "        lista += f\" >> Tanque: {nombre} | Capacidad: {valor} lts \\n\"\n",
    "    return lista\n",
    "\n",
    "print(\n",
    "    generar_informe_mision(\n",
    "        '14:00',\n",
    "        'HMO, SON, MEX',\n",
    "        60, 25, 80,\n",
    "        primer_tanque = 100, segundo_tanque = 80, tercer_tanque = 150\n",
    "    )\n",
    ")"
   ]
  }
 ],
 "metadata": {
  "interpreter": {
   "hash": "2be5faf79681da6f2a61fdfdd5405d65d042280f7fba6178067603e3a2925119"
  },
  "kernelspec": {
   "display_name": "Python 3.10.2 64-bit",
   "language": "python",
   "name": "python3"
  },
  "language_info": {
   "codemirror_mode": {
    "name": "ipython",
    "version": 3
   },
   "file_extension": ".py",
   "mimetype": "text/x-python",
   "name": "python",
   "nbconvert_exporter": "python",
   "pygments_lexer": "ipython3",
   "version": "3.10.2"
  },
  "orig_nbformat": 4
 },
 "nbformat": 4,
 "nbformat_minor": 2
}
