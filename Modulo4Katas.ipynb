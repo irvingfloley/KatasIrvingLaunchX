{
 "cells": [
  {
   "cell_type": "markdown",
   "metadata": {},
   "source": [
    "## Ejercicio 1: Transformar cadenas"
   ]
  },
  {
   "cell_type": "code",
   "execution_count": 46,
   "metadata": {},
   "outputs": [
    {
     "data": {
      "text/plain": [
       "\"Interesting facts about the Moon. The Moon is Earth's only satellite. There are several interesting facts about the Moon and how it affects life here on Earth. \\nOn average, the Moon moves 4cm away from the Earth every year. This yearly drift is not significant enough to cause immediate effects on Earth. The highest daylight temperature of the Moon is 127 C.\""
      ]
     },
     "execution_count": 46,
     "metadata": {},
     "output_type": "execute_result"
    }
   ],
   "source": [
    "text = \"\"\"Interesting facts about the Moon. The Moon is Earth's only satellite. There are several interesting facts about the Moon and how it affects life here on Earth. \n",
    "On average, the Moon moves 4cm away from the Earth every year. This yearly drift is not significant enough to cause immediate effects on Earth. The highest daylight temperature of the Moon is 127 C.\"\"\"\n",
    "\n",
    "partes = text.split('. ') # El split toma la instrucción de escape \\n como parte del contenido de la cadena en el arreglo, me queda la duda si esto es correcto\n",
    "partes"
   ]
  },
  {
   "cell_type": "code",
   "execution_count": 39,
   "metadata": {},
   "outputs": [
    {
     "name": "stdout",
     "output_type": "stream",
     "text": [
      "\n",
      "On average, the Moon moves 4cm away from the Earth every year\n",
      "The highest daylight temperature of the Moon is 127 Celsius.\n"
     ]
    }
   ],
   "source": [
    "criterios_busqueda = [\"average\", \"temperature\", \"distance\"]\n",
    "\n",
    "for item in partes:\n",
    "    for key in criterios_busqueda:\n",
    "        if key in item:\n",
    "            print(item.replace('C', 'Celsius'))"
   ]
  },
  {
   "cell_type": "markdown",
   "metadata": {},
   "source": [
    "## Ejercicio 2: Formateando Cadenas"
   ]
  },
  {
   "cell_type": "code",
   "execution_count": 74,
   "metadata": {},
   "outputs": [
    {
     "name": "stdout",
     "output_type": "stream",
     "text": [
      "Gravity Facts About Moon\n",
      "-------------------------------------------\n",
      "Planet Name: Earth\n",
      "Gravity on Moon: 1.6199999999999999 m/s2\n",
      " Gravity Facts About Ganímedes\n",
      "---------------------------------\n",
      "Planet Name: Marte \n",
      "Gravity on Ganímedes : 0.14300000000000002 m/s2\n"
     ]
    }
   ],
   "source": [
    "#Datos con los que vas a trabajar\n",
    "name = \"Moon\"\n",
    "gravity = 0.00162 # in kms\n",
    "planet = \"Earth\"\n",
    "\n",
    "titulo = f\"Gravity facts about {name}\".title()\n",
    "\n",
    "plantilla_text = f\"\"\"{titulo}\n",
    "-------------------------------------------\n",
    "Planet Name: {planet}\n",
    "Gravity on {name}: {gravity * 1000} m/s2\"\"\"\n",
    "\n",
    "print(plantilla_text)"
   ]
  },
  {
   "cell_type": "code",
   "execution_count": 75,
   "metadata": {},
   "outputs": [
    {
     "name": "stdout",
     "output_type": "stream",
     "text": [
      " Datos De Gravedad Sobre Ganímedes\n",
      "---------------------------------\n",
      "Nombre del Planeta: Marte \n",
      "Gravedad en Ganímedes : 0.14300000000000002 m/s2\n"
     ]
    }
   ],
   "source": [
    "planet = 'Marte '\n",
    "gravity  = 0.00143 \n",
    "name = 'Ganímedes'\n",
    "\n",
    "titulo = f\"Datos de gravedad sobre {name}\".title()\n",
    "\n",
    "gravity_meters = gravity * 100\n",
    "\n",
    "nueva_plantilla = \"\"\" {title}\n",
    "---------------------------------\n",
    "Nombre del Planeta: {planet_name}\n",
    "Gravedad en {satelite_name} : {gravity_in_meters} m/s2\"\"\".format(title = titulo, planet_name = planet, satelite_name = name, gravity_in_meters = gravity_meters)\n",
    "\n",
    "print(nueva_plantilla)"
   ]
  }
 ],
 "metadata": {
  "interpreter": {
   "hash": "2be5faf79681da6f2a61fdfdd5405d65d042280f7fba6178067603e3a2925119"
  },
  "kernelspec": {
   "display_name": "Python 3.10.2 64-bit",
   "language": "python",
   "name": "python3"
  },
  "language_info": {
   "codemirror_mode": {
    "name": "ipython",
    "version": 3
   },
   "file_extension": ".py",
   "mimetype": "text/x-python",
   "name": "python",
   "nbconvert_exporter": "python",
   "pygments_lexer": "ipython3",
   "version": "3.10.2"
  },
  "orig_nbformat": 4
 },
 "nbformat": 4,
 "nbformat_minor": 2
}
